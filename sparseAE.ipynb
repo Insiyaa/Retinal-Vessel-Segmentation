{
  "nbformat": 4,
  "nbformat_minor": 0,
  "metadata": {
    "colab": {
      "name": "sparseAE.ipynb",
      "version": "0.3.2",
      "provenance": [],
      "collapsed_sections": []
    },
    "kernelspec": {
      "name": "python3",
      "display_name": "Python 3"
    },
    "accelerator": "GPU"
  },
  "cells": [
    {
      "metadata": {
        "id": "18DUXinxPKEa",
        "colab_type": "code",
        "colab": {}
      },
      "cell_type": "code",
      "source": [
        "!pip install torch torchvision"
      ],
      "execution_count": 0,
      "outputs": []
    },
    {
      "metadata": {
        "id": "Jhh61PMPR6eW",
        "colab_type": "code",
        "colab": {}
      },
      "cell_type": "code",
      "source": [
        "%matplotlib inline\n",
        "import torch\n",
        "from PIL import Image\n",
        "import matplotlib.pyplot as plt\n",
        "import numpy as np\n",
        "import torchvision\n",
        "import torchvision.transforms as transforms\n",
        "from torch.autograd import Variable\n",
        "from torch.autograd import Function\n",
        "import torch.nn as nn\n",
        "import torch.nn.functional as F\n",
        "import copy\n",
        "import random\n"
      ],
      "execution_count": 0,
      "outputs": []
    },
    {
      "metadata": {
        "id": "i610DbU7NZbN",
        "colab_type": "text"
      },
      "cell_type": "markdown",
      "source": [
        "# Retinal Vessel Detection"
      ]
    },
    {
      "metadata": {
        "id": "-R0HqRP8O04C",
        "colab_type": "text"
      },
      "cell_type": "markdown",
      "source": [
        "Dataset used: *[DRIVE](https://www.isi.uu.nl/Research/Databases/DRIVE/)*"
      ]
    },
    {
      "metadata": {
        "id": "AdpXZL2AO_A_",
        "colab_type": "text"
      },
      "cell_type": "markdown",
      "source": [
        "Loading dataset on colab..."
      ]
    },
    {
      "metadata": {
        "id": "QLIiTI26PY6s",
        "colab_type": "code",
        "outputId": "6553e582-656f-4c64-9432-cf411064df03",
        "colab": {
          "base_uri": "https://localhost:8080/",
          "height": 34
        }
      },
      "cell_type": "code",
      "source": [
        "from google.colab import drive\n",
        "drive.mount('/content/drive')"
      ],
      "execution_count": 3,
      "outputs": [
        {
          "output_type": "stream",
          "text": [
            "Drive already mounted at /content/drive; to attempt to forcibly remount, call drive.mount(\"/content/drive\", force_remount=True).\n"
          ],
          "name": "stdout"
        }
      ]
    },
    {
      "metadata": {
        "id": "DJc_yAqoLPmS",
        "colab_type": "code",
        "colab": {
          "base_uri": "https://localhost:8080/",
          "height": 34
        },
        "outputId": "de3af7ec-f8aa-47af-d4f1-2e03b9893b00"
      },
      "cell_type": "code",
      "source": [
        "cd drive/\"My Drive\"/datasets"
      ],
      "execution_count": 4,
      "outputs": [
        {
          "output_type": "stream",
          "text": [
            "/content/drive/My Drive/datasets\n"
          ],
          "name": "stdout"
        }
      ]
    },
    {
      "metadata": {
        "id": "MK9ALnFTLcNT",
        "colab_type": "code",
        "colab": {}
      },
      "cell_type": "code",
      "source": [
        "cp DRIVE.zip ../../../"
      ],
      "execution_count": 0,
      "outputs": []
    },
    {
      "metadata": {
        "id": "y9BUOElHLfqr",
        "colab_type": "code",
        "colab": {}
      },
      "cell_type": "code",
      "source": [
        "!unzip DRIVE.zip"
      ],
      "execution_count": 0,
      "outputs": []
    },
    {
      "metadata": {
        "id": "dsWX9juuQGSP",
        "colab_type": "code",
        "outputId": "e0dddf84-1e1c-4655-99eb-2d1ef9465a39",
        "colab": {
          "base_uri": "https://localhost:8080/",
          "height": 34
        }
      },
      "cell_type": "code",
      "source": [
        "ls"
      ],
      "execution_count": 12,
      "outputs": [
        {
          "output_type": "stream",
          "text": [
            "\u001b[0m\u001b[01;34mdrive\u001b[0m/  \u001b[01;34mDRIVE\u001b[0m/  DRIVE.zip  \u001b[01;34msample_data\u001b[0m/\n"
          ],
          "name": "stdout"
        }
      ]
    },
    {
      "metadata": {
        "id": "MNKxKMKFQh-S",
        "colab_type": "text"
      },
      "cell_type": "markdown",
      "source": [
        "# Crop Images\n",
        "\n",
        "Multiple pixel and the challenge is to label each and every pixel. Annotate each pixel known as sementic segmentation.\n",
        "Take a 10x10 patch, and the center pixels label is associated with that patch."
      ]
    },
    {
      "metadata": {
        "id": "gQeZ13B9Rxdh",
        "colab_type": "code",
        "colab": {}
      },
      "cell_type": "code",
      "source": [
        "# crop random 10 x 10 patches from images and also get the corresponding label\n",
        "\n",
        "def img_transfer(img,imgLabel, bh, bw, no_of_patch):\n",
        "    \n",
        "    h = img.shape[0]\n",
        "    w = img.shape[1]\n",
        "    c = img.shape[2]\n",
        "    ImgArr = np.empty((no_of_patch, bh*bw*3)) \n",
        "    LabelArr = np.empty((no_of_patch, bh*bw*1))\n",
        "    \n",
        "    # Get random patches\n",
        "    for i in range(no_of_patch):\n",
        "        ih = random.randint(0, h-bh)\n",
        "        iw = random.randint(0, w-bw)\n",
        "        iArrI = img[ih:ih+bh,iw:iw+bw,:]\n",
        "        iArrL = imgLabel[ih:ih+bh,iw:iw+bw,:]       \n",
        "        for ci in range(c):\n",
        "            for bhi in range(bh):\n",
        "                for bwi in range(bw):\n",
        "                    # Add to image array\n",
        "                    ImgArr[i][ci*bh*bw + bhi*bw + bwi] = iArrI[bhi][bwi][ci]\n",
        "                    # first channel\n",
        "                    if ci == 0:\n",
        "                        LabelArr[i][ci*bh*bw + bhi*bw + bwi] = iArrL[bhi][bwi][ci]\n",
        "        \n",
        "    return ImgArr,LabelArr"
      ],
      "execution_count": 0,
      "outputs": []
    },
    {
      "metadata": {
        "id": "S1t71-XWL6fv",
        "colab_type": "code",
        "colab": {}
      },
      "cell_type": "code",
      "source": [
        "def create_dset(patchH, patchW, PatchperImage, settype='train'):\n",
        "  \"\"\"\n",
        "  patchH: Patch height\n",
        "  patchW: Patch width\n",
        "  PatchperImage: Number of patches per image\n",
        "  settype: Can be either train or test\n",
        "  \"\"\"\n",
        "  if settype == 'train':\n",
        "    Datapath = 'DRIVE/training/images/'\n",
        "    # 2 different annotations by different oplthalmologists\n",
        "    Labelpath = 'DRIVE/training/1st_manual/'\n",
        "  elif settype == 'test':\n",
        "    Datapath = 'DRIVE/test/images/'\n",
        "    # 2 different annotations by different oplthalmologists\n",
        "    Labelpath = 'DRIVE/test/1st_manual/'\n",
        "  else:\n",
        "    raise ValueError(\"settype can be either 'test' or 'train'\")\n",
        "  \n",
        "  images = torch.DoubleTensor(20*PatchperImage,3*patchH*patchW) # 20 such images\n",
        "  labels = torch.DoubleTensor(20*PatchperImage,patchH*patchW) \n",
        "  t_no = 0\n",
        "  for img_no in range(20):\n",
        "      if settype == 'train':\n",
        "        dp = Datapath + str(img_no+21) + '_training.tif'\n",
        "        lp = Labelpath + str(img_no+21) + '_manual1.gif'\n",
        "      elif settype == 'test':\n",
        "        dp = Datapath + \"%02d\"%(img_no+1) + '_test.tif'\n",
        "        lp = Labelpath + \"%02d\"%(img_no+1) + '_manual1.gif'\n",
        "      imD = Image.open(dp)\n",
        "      imD = np.array(imD)    \n",
        "\n",
        "      imL = Image.open(lp)\n",
        "      imL = np.array(imL)\n",
        "      imL = np.reshape(imL, (imL.shape[0],imL.shape[1],1))\n",
        "\n",
        "      imD,imL = img_transfer(imD,imL, patchH, patchW, PatchperImage)\n",
        "      imD = imD/255.0\n",
        "      imL = imL/255.0\n",
        "      for i in range(PatchperImage):\n",
        "          images[t_no] = torch.from_numpy(imD[i])\n",
        "          labels[t_no] = torch.from_numpy(imL[i])\n",
        "          t_no = t_no + 1\n",
        "  return images, labels\n",
        "    "
      ],
      "execution_count": 0,
      "outputs": []
    },
    {
      "metadata": {
        "id": "NYkw7uJKSXbo",
        "colab_type": "text"
      },
      "cell_type": "markdown",
      "source": [
        "# Model 2: Sparse Autoencoder"
      ]
    },
    {
      "metadata": {
        "id": "n5_Ko5qoUZfd",
        "colab_type": "code",
        "colab": {}
      },
      "cell_type": "code",
      "source": [
        "patchH = 10 # height of the patch\n",
        "patchW = 10 # width of the patch\n",
        "PatchperImage = 1000 # no of patches per image"
      ],
      "execution_count": 0,
      "outputs": []
    },
    {
      "metadata": {
        "id": "4cEQxxDtUo-U",
        "colab_type": "code",
        "colab": {}
      },
      "cell_type": "code",
      "source": [
        "TrainImages,TrainLabels = create_dset(patchH, patchW, PatchperImage, settype='train')"
      ],
      "execution_count": 0,
      "outputs": []
    },
    {
      "metadata": {
        "id": "242VFwhBQxDy",
        "colab_type": "code",
        "colab": {}
      },
      "cell_type": "code",
      "source": [
        "TestImages, TestLabels = create_dset(patchH, patchW, PatchperImage, settype='test')"
      ],
      "execution_count": 0,
      "outputs": []
    },
    {
      "metadata": {
        "id": "qU4HdGYjVr4T",
        "colab_type": "code",
        "outputId": "d4c361f2-193a-4551-d0e3-806585af313d",
        "colab": {
          "base_uri": "https://localhost:8080/",
          "height": 86
        }
      },
      "cell_type": "code",
      "source": [
        "print(TrainImages.size())\n",
        "print(TrainLabels.size())\n",
        "\n",
        "print(TestImages.size())\n",
        "print(TestLabels.size())"
      ],
      "execution_count": 16,
      "outputs": [
        {
          "output_type": "stream",
          "text": [
            "torch.Size([20000, 300])\n",
            "torch.Size([20000, 100])\n",
            "torch.Size([20000, 300])\n",
            "torch.Size([20000, 100])\n"
          ],
          "name": "stdout"
        }
      ]
    },
    {
      "metadata": {
        "id": "NN0z3IN-XFwZ",
        "colab_type": "code",
        "colab": {}
      },
      "cell_type": "code",
      "source": [
        "batch_size = 32\n",
        "n_iters = 50000\n",
        "num_epochs = int(n_iters / (len(TrainImages)/batch_size))\n",
        "\n",
        "train_dataset = torch.utils.data.TensorDataset(TrainImages, TrainLabels)\n",
        "test_dataset = torch.utils.data.TensorDataset(TestImages, TestLabels)\n",
        "\n",
        "\n",
        "train_loader = torch.utils.data.DataLoader(dataset=train_dataset, batch_size=batch_size, shuffle=True)\n",
        "test_loader = torch.utils.data.DataLoader(dataset=test_dataset, batch_size=batch_size, shuffle=False)\n",
        "\n"
      ],
      "execution_count": 0,
      "outputs": []
    },
    {
      "metadata": {
        "id": "UzqUhrFYfvs7",
        "colab_type": "code",
        "outputId": "a46dcc27-6b28-4dec-ad76-08f4748a1804",
        "colab": {
          "base_uri": "https://localhost:8080/",
          "height": 52
        }
      },
      "cell_type": "code",
      "source": [
        "print(n_iters)\n",
        "print(num_epochs)"
      ],
      "execution_count": 17,
      "outputs": [
        {
          "output_type": "stream",
          "text": [
            "50000\n",
            "80\n"
          ],
          "name": "stdout"
        }
      ]
    },
    {
      "metadata": {
        "id": "pgM7BvRYWa-0",
        "colab_type": "code",
        "outputId": "41542538-576d-4963-9b10-22825644a9b9",
        "colab": {
          "base_uri": "https://localhost:8080/",
          "height": 34
        }
      },
      "cell_type": "code",
      "source": [
        "use_gpu = torch.cuda.is_available()\n",
        "if use_gpu:\n",
        "    print('GPU is available!')"
      ],
      "execution_count": 19,
      "outputs": [
        {
          "output_type": "stream",
          "text": [
            "GPU is available!\n"
          ],
          "name": "stdout"
        }
      ]
    },
    {
      "metadata": {
        "id": "ZdFqYnKmWkwO",
        "colab_type": "code",
        "colab": {}
      },
      "cell_type": "code",
      "source": [
        " class SparseAutoencoder(nn.Module):\n",
        "    def __init__(self, l1weight):\n",
        "        super(SparseAutoencoder, self).__init__()\n",
        "        self.encoder = nn.Sequential(\n",
        "            nn.Linear(patchH*patchW*3, patchH*patchW),\n",
        "            nn.ReLU())\n",
        "        self.decoder = nn.Sequential(\n",
        "            nn.Linear(patchH*patchW, patchH*patchW*3),\n",
        "            nn.Sigmoid())\n",
        "        self.l1weight = l1weight\n",
        "\n",
        "    def forward(self, x):\n",
        "        encoded = self.encoder(x)\n",
        "        decoded = self.decoder(encoded)\n",
        "        return encoded, decoded\n",
        "\n"
      ],
      "execution_count": 0,
      "outputs": []
    },
    {
      "metadata": {
        "id": "gcWp3BB1UJbO",
        "colab_type": "code",
        "colab": {
          "base_uri": "https://localhost:8080/",
          "height": 208
        },
        "outputId": "032619e5-a773-4d2c-c53f-f3a1aca1869d"
      },
      "cell_type": "code",
      "source": [
        "\n",
        "net = SparseAutoencoder(0.1)\n",
        "print(net)\n"
      ],
      "execution_count": 61,
      "outputs": [
        {
          "output_type": "stream",
          "text": [
            "SparseAutoencoder(\n",
            "  (encoder): Sequential(\n",
            "    (0): Linear(in_features=300, out_features=100, bias=True)\n",
            "    (1): ReLU()\n",
            "  )\n",
            "  (decoder): Sequential(\n",
            "    (0): Linear(in_features=100, out_features=300, bias=True)\n",
            "    (1): Sigmoid()\n",
            "  )\n",
            ")\n",
            "On GPU\n"
          ],
          "name": "stdout"
        }
      ]
    },
    {
      "metadata": {
        "id": "u9uDiSBcUi-_",
        "colab_type": "code",
        "colab": {}
      },
      "cell_type": "code",
      "source": [
        "\n",
        "if use_gpu:\n",
        "    net = net.double().cuda()\n",
        "    print('On GPU')\n",
        "else:\n",
        "    net = net.double()"
      ],
      "execution_count": 0,
      "outputs": []
    },
    {
      "metadata": {
        "id": "mEn6XwVq1Mdc",
        "colab_type": "code",
        "colab": {}
      },
      "cell_type": "code",
      "source": [
        "# A tensor of 1 x 100. We would like the average activation of each hidden neuron j to be close to 0.1.\n",
        "rho = torch.ones((32, 100)).double().cuda() * 0.1"
      ],
      "execution_count": 0,
      "outputs": []
    },
    {
      "metadata": {
        "id": "OvNlXFG0W0kJ",
        "colab_type": "code",
        "colab": {}
      },
      "cell_type": "code",
      "source": [
        "mse = torch.nn.MSELoss()\n",
        "kld = torch.nn.KLDivLoss()\n",
        "optimizer = torch.optim.Adam(net.parameters(), lr=1e-4)"
      ],
      "execution_count": 0,
      "outputs": []
    },
    {
      "metadata": {
        "id": "sdmMNFWeadVI",
        "colab_type": "code",
        "outputId": "2213f99f-8fbd-4a08-cdb8-d245123a7f7b",
        "colab": {
          "base_uri": "https://localhost:8080/",
          "height": 211
        }
      },
      "cell_type": "code",
      "source": [
        "trainLoss = []\n",
        "\n",
        "iter = 0\n",
        "for epoch in range(num_epochs):\n",
        "  runningLoss = 0.0\n",
        "  for images, labels in train_loader:\n",
        "    \n",
        "    if use_gpu:\n",
        "      images = Variable(images.double()).cuda() # No need to resize\n",
        "    else:\n",
        "      images = Variable(images.double()) # No need to resize  \n",
        "    \n",
        "    optimizer.zero_grad()\n",
        "    \n",
        "    encoded, decoded = net(images)\n",
        "    \n",
        "    loss = mse(images, decoded) + (3 * kld(encoded, rho))\n",
        " \n",
        "    loss.backward()\n",
        "    \n",
        "    optimizer.step()\n",
        "    runningLoss += loss.data[0]\n",
        "    \n",
        "  trainLoss.append(runningLoss/(TrainImages.size()[0]/batch_size))\n",
        "  if epoch % 10 == 0:\n",
        "    print('At Iteration : %d / %d  ;  Mean-Squared Error : %f'%(epoch + 1,num_epochs,runningLoss/\n",
        "                                                                (TrainImages.size()[0]/batch_size)))\n",
        "print('Finished Training')\n",
        "    "
      ],
      "execution_count": 86,
      "outputs": [
        {
          "output_type": "stream",
          "text": [
            "/usr/local/lib/python3.6/dist-packages/ipykernel_launcher.py:22: UserWarning: invalid index of a 0-dim tensor. This will be an error in PyTorch 0.5. Use tensor.item() to convert a 0-dim tensor to a Python number\n"
          ],
          "name": "stderr"
        },
        {
          "output_type": "stream",
          "text": [
            "At Iteration : 1 / 80  ;  Mean-Squared Error : 204.076611\n",
            "At Iteration : 11 / 80  ;  Mean-Squared Error : 8.513684\n",
            "At Iteration : 21 / 80  ;  Mean-Squared Error : 6.241933\n",
            "At Iteration : 31 / 80  ;  Mean-Squared Error : 5.077938\n",
            "At Iteration : 41 / 80  ;  Mean-Squared Error : 4.521719\n",
            "At Iteration : 51 / 80  ;  Mean-Squared Error : 4.074574\n",
            "At Iteration : 61 / 80  ;  Mean-Squared Error : 3.588551\n",
            "At Iteration : 71 / 80  ;  Mean-Squared Error : 3.042200\n",
            "Finished Training\n"
          ],
          "name": "stdout"
        }
      ]
    },
    {
      "metadata": {
        "id": "lEQ1tF4ib7h6",
        "colab_type": "code",
        "outputId": "f6c573e7-6ffa-419e-961e-eb5454d3a2a3",
        "colab": {
          "base_uri": "https://localhost:8080/",
          "height": 296
        }
      },
      "cell_type": "code",
      "source": [
        "fig = plt.figure()        \n",
        "plt.plot(range(epoch+1),trainLoss,'g-',label='Loss')\n",
        "plt.legend(loc='best')\n",
        "plt.xlabel('Epochs')\n",
        "plt.ylabel('Training loss')"
      ],
      "execution_count": 87,
      "outputs": [
        {
          "output_type": "execute_result",
          "data": {
            "text/plain": [
              "Text(0,0.5,'Training loss')"
            ]
          },
          "metadata": {
            "tags": []
          },
          "execution_count": 87
        },
        {
          "output_type": "display_data",
          "data": {
            "image/png": "[encoded data removed]",
            "text/plain": [
              "<matplotlib.figure.Figure at 0x7f0eb06f3eb8>"
            ]
          },
          "metadata": {
            "tags": []
          }
        }
      ]
    },
    {
      "metadata": {
        "id": "O8cNYlXpSoON",
        "colab_type": "text"
      },
      "cell_type": "markdown",
      "source": [
        "## Sparse AE with penalty for classification"
      ]
    },
    {
      "metadata": {
        "id": "XCljN4mjkbDv",
        "colab_type": "code",
        "colab": {}
      },
      "cell_type": "code",
      "source": [
        "class L1Penalty(Function):\n",
        "\n",
        "    @staticmethod\n",
        "    def forward(ctx, input, l1weight):\n",
        "        ctx.save_for_backward(input)\n",
        "        ctx.l1weight = l1weight\n",
        "        return input\n",
        "\n",
        "    @staticmethod\n",
        "    def backward(ctx, grad_output):\n",
        "        input, = ctx.saved_tensors\n",
        "        grad_input = input.clone().sign().mul(ctx.l1weight)\n",
        "        grad_input += grad_output\n",
        "        return grad_input, None"
      ],
      "execution_count": 0,
      "outputs": []
    },
    {
      "metadata": {
        "id": "88jKMI_pSsnR",
        "colab_type": "code",
        "colab": {
          "base_uri": "https://localhost:8080/",
          "height": 191
        },
        "outputId": "d99e9464-7806-4336-9406-b29056985be2"
      },
      "cell_type": "code",
      "source": [
        "class autoencoder(nn.Module):\n",
        "    def __init__(self, l1weight):\n",
        "        super(autoencoder, self).__init__()\n",
        "        self.encoder = nn.Sequential(\n",
        "            nn.Linear(patchH*patchW*3, patchH*patchW),\n",
        "            nn.ReLU())\n",
        "        self.classifier = nn.Sequential(nn.Linear(patchH*patchW,\n",
        "                                               patchH*patchW),\n",
        "                                     nn.Sigmoid())\n",
        "        self.l1weight = l1weight\n",
        "\n",
        "    def forward(self, x):\n",
        "        x = self.encoder(x)\n",
        "        x = L1Penalty.apply(x, self.l1weight)\n",
        "        x = self.classifier(x)\n",
        "        return x\n",
        "\n",
        "\n",
        "net = autoencoder(0.8)\n",
        "print(net)\n",
        "\n",
        "if use_gpu:\n",
        "    net = net.double().cuda()\n",
        "else:\n",
        "    net = net.double()"
      ],
      "execution_count": 35,
      "outputs": [
        {
          "output_type": "stream",
          "text": [
            "autoencoder(\n",
            "  (encoder): Sequential(\n",
            "    (0): Linear(in_features=300, out_features=100, bias=True)\n",
            "    (1): ReLU()\n",
            "  )\n",
            "  (classifier): Sequential(\n",
            "    (0): Linear(in_features=100, out_features=100, bias=True)\n",
            "    (1): Sigmoid()\n",
            "  )\n",
            ")\n"
          ],
          "name": "stdout"
        }
      ]
    },
    {
      "metadata": {
        "id": "PK9h2UuSTUxX",
        "colab_type": "code",
        "colab": {}
      },
      "cell_type": "code",
      "source": [
        "criterion = nn.BCELoss()\n",
        "optimizer = torch.optim.Adam(net.parameters(), lr=1e-3)"
      ],
      "execution_count": 0,
      "outputs": []
    },
    {
      "metadata": {
        "id": "8eW9TN2vUvDq",
        "colab_type": "code",
        "colab": {
          "base_uri": "https://localhost:8080/",
          "height": 228
        },
        "outputId": "fe537be6-6ed1-4542-aa80-0e5694ab7444"
      },
      "cell_type": "code",
      "source": [
        "for epoch in range(num_epochs):  # loop over the dataset multiple times\n",
        "\n",
        "    runningLoss = 0.0\n",
        "    for i, data in enumerate(train_loader, 0):\n",
        "        # get the inputs\n",
        "        inputs, labels = data\n",
        "        \n",
        "        # wrap them in Variable\n",
        "        if use_gpu:\n",
        "            inputs, labels = Variable(inputs).cuda(), Variable(labels).cuda()\n",
        "        else:\n",
        "            inputs, labels = Variable(inputs), Variable(labels)\n",
        "\n",
        "        net.zero_grad()  # zeroes the gradient buffers of all parameters\n",
        "        outputs = net(inputs) # forward \n",
        "        loss = criterion(outputs, labels) # calculate loss\n",
        "        loss.backward() #  backpropagate the loss\n",
        "        optimizer.step()\n",
        "        runningLoss += loss.data[0]\n",
        "        \n",
        "    testloss = 0.0\n",
        "    for data in test_loader:\n",
        "        inputs, labels = data\n",
        "        if use_gpu:\n",
        "            inputs, labels = Variable(inputs).cuda(), Variable(labels).cuda()\n",
        "        else:\n",
        "            inputs, labels = Variable(inputs), Variable(labels)\n",
        "        outputs = net(inputs)\n",
        "        loss = criterion(outputs, labels)\n",
        "        testloss += loss.data[0]\n",
        "    if epoch % 10 == 0:  \n",
        "      print('At Iteration : %d / %d  ;  Train Error : %f ;Test Error : %f'%(epoch + 1,num_epochs,\n",
        "                                                                        runningLoss/(20000/batch_size),testloss/(20000/batch_size)))\n",
        "print('Finished Training')"
      ],
      "execution_count": 37,
      "outputs": [
        {
          "output_type": "stream",
          "text": [
            "/usr/local/lib/python3.6/dist-packages/ipykernel_launcher.py:19: UserWarning: invalid index of a 0-dim tensor. This will be an error in PyTorch 0.5. Use tensor.item() to convert a 0-dim tensor to a Python number\n",
            "/usr/local/lib/python3.6/dist-packages/ipykernel_launcher.py:30: UserWarning: invalid index of a 0-dim tensor. This will be an error in PyTorch 0.5. Use tensor.item() to convert a 0-dim tensor to a Python number\n"
          ],
          "name": "stderr"
        },
        {
          "output_type": "stream",
          "text": [
            "At Iteration : 1 / 80  ;  Train Error : 0.587768 ;Test Error : 0.502647\n",
            "At Iteration : 11 / 80  ;  Train Error : 0.296188 ;Test Error : 0.306518\n",
            "At Iteration : 21 / 80  ;  Train Error : 0.296187 ;Test Error : 0.306532\n",
            "At Iteration : 31 / 80  ;  Train Error : 0.296185 ;Test Error : 0.306522\n",
            "At Iteration : 41 / 80  ;  Train Error : 0.296186 ;Test Error : 0.306529\n",
            "At Iteration : 51 / 80  ;  Train Error : 0.296187 ;Test Error : 0.306538\n",
            "At Iteration : 61 / 80  ;  Train Error : 0.296184 ;Test Error : 0.306553\n",
            "At Iteration : 71 / 80  ;  Train Error : 0.296185 ;Test Error : 0.306525\n",
            "Finished Training\n"
          ],
          "name": "stdout"
        }
      ]
    },
    {
      "metadata": {
        "id": "lK2m6f0jeacy",
        "colab_type": "text"
      },
      "cell_type": "markdown",
      "source": [
        "## Modifying the autoencoder for classification"
      ]
    },
    {
      "metadata": {
        "id": "h-vOssPypWrd",
        "colab_type": "code",
        "outputId": "060874d7-85bf-4930-c824-980b86139864",
        "colab": {
          "base_uri": "https://localhost:8080/",
          "height": 191
        }
      },
      "cell_type": "code",
      "source": [
        "class SparseAutoencoderClassifier(nn.Module):\n",
        "    def __init__(self, l1weight):\n",
        "        super(SparseAutoencoderClassifier, self).__init__()\n",
        "        self.encoder = nn.Sequential(\n",
        "            nn.Linear(patchH*patchW*3, patchH*patchW),\n",
        "            nn.ReLU())\n",
        "        self.classifier = nn.Sequential(\n",
        "            nn.Linear(patchH*patchW, 100),\n",
        "            nn.Sigmoid())\n",
        "        self.l1weight = l1weight\n",
        "\n",
        "    def forward(self, x):\n",
        "        encoded = self.encoder(x)\n",
        "        decoded = self.classifier(encoded)\n",
        "        return encoded, decoded\n",
        "net = SparseAutoencoderClassifier(0.1)\n",
        "net.add_module('classifier', nn.Sequential(nn.Linear(patchH*patchW, patchH*patchW),nn.Sigmoid()))\n",
        "print(net)\n",
        "if use_gpu:\n",
        "    net = net.double().cuda()\n",
        "else:\n",
        "    net = net.double()"
      ],
      "execution_count": 93,
      "outputs": [
        {
          "output_type": "stream",
          "text": [
            "SparseAutoencoderClassifier(\n",
            "  (encoder): Sequential(\n",
            "    (0): Linear(in_features=300, out_features=100, bias=True)\n",
            "    (1): ReLU()\n",
            "  )\n",
            "  (classifier): Sequential(\n",
            "    (0): Linear(in_features=100, out_features=100, bias=True)\n",
            "    (1): Sigmoid()\n",
            "  )\n",
            ")\n"
          ],
          "name": "stdout"
        }
      ]
    },
    {
      "metadata": {
        "id": "RJ8QcUHMp9C7",
        "colab_type": "code",
        "colab": {}
      },
      "cell_type": "code",
      "source": [
        "bce = nn.BCELoss()\n",
        "kld2 = nn.KLDivLoss()\n",
        "optimizer = torch.optim.Adam(net.parameters(), lr=1e-3)"
      ],
      "execution_count": 0,
      "outputs": []
    },
    {
      "metadata": {
        "id": "on9L5fYLqAip",
        "colab_type": "code",
        "outputId": "572b9f88-5dcc-40d8-abb2-640d97f42f8b",
        "colab": {
          "base_uri": "https://localhost:8080/",
          "height": 228
        }
      },
      "cell_type": "code",
      "source": [
        "for epoch in range(num_epochs):  # loop over the dataset multiple times\n",
        "\n",
        "    runningLoss = 0.0\n",
        "    for data in train_loader:\n",
        "        # get the inputs\n",
        "        inputs, labels = data\n",
        "        \n",
        "        # wrap them in Variable\n",
        "        if use_gpu:\n",
        "            inputs, labels = Variable(inputs).cuda(), Variable(labels).cuda()\n",
        "        else:\n",
        "            inputs, labels = Variable(inputs), Variable(labels)\n",
        "\n",
        "        net.zero_grad()  # zeroes the gradient buffers of all parameters\n",
        "        \n",
        "        encoded, outputs = net(inputs)\n",
        "    \n",
        "        loss = bce(outputs, labels) + (3 * kld2(encoded, rho))\n",
        " \n",
        "        loss.backward() #  backpropagate the loss\n",
        "  \n",
        "        optimizer.step()\n",
        "        runningLoss += loss.data[0]\n",
        "        \n",
        "    testloss = 0.0\n",
        "    for data in test_loader:\n",
        "        inputs, labels = data\n",
        "        if use_gpu:\n",
        "            inputs, labels = Variable(inputs).cuda(), Variable(labels).cuda()\n",
        "        else:\n",
        "            inputs, labels = Variable(inputs), Variable(labels)\n",
        "            \n",
        "        encoded, outputs = net(inputs)\n",
        "        loss = bce(outputs, labels) + (3 * kld2(encoded, rho))\n",
        "        \n",
        "        testloss += loss.data[0]\n",
        "        \n",
        "    if epoch % 10 == 0:  \n",
        "      print('At Iteration : %d / %d  ;  Train Error : %f ;Test Error : %f'%(epoch + 1,num_epochs,\n",
        "                                                                        runningLoss/(20000/batch_size),testloss/(20000/batch_size)))\n",
        "print('Finished Training')"
      ],
      "execution_count": 103,
      "outputs": [
        {
          "output_type": "stream",
          "text": [
            "/usr/local/lib/python3.6/dist-packages/ipykernel_launcher.py:23: UserWarning: invalid index of a 0-dim tensor. This will be an error in PyTorch 0.5. Use tensor.item() to convert a 0-dim tensor to a Python number\n",
            "/usr/local/lib/python3.6/dist-packages/ipykernel_launcher.py:36: UserWarning: invalid index of a 0-dim tensor. This will be an error in PyTorch 0.5. Use tensor.item() to convert a 0-dim tensor to a Python number\n"
          ],
          "name": "stderr"
        },
        {
          "output_type": "stream",
          "text": [
            "At Iteration : 1 / 80  ;  Train Error : -8.167653 ;Test Error : -16.699881\n",
            "At Iteration : 11 / 80  ;  Train Error : -149.911334 ;Test Error : -160.719047\n",
            "At Iteration : 21 / 80  ;  Train Error : -324.352292 ;Test Error : -340.424566\n",
            "At Iteration : 31 / 80  ;  Train Error : -505.210330 ;Test Error : -526.014297\n",
            "At Iteration : 41 / 80  ;  Train Error : -677.870313 ;Test Error : -701.036645\n",
            "At Iteration : 51 / 80  ;  Train Error : -847.577152 ;Test Error : -873.717196\n",
            "At Iteration : 61 / 80  ;  Train Error : -1016.639052 ;Test Error : -1046.219302\n",
            "At Iteration : 71 / 80  ;  Train Error : -1185.601317 ;Test Error : -1218.652680\n",
            "Finished Training\n"
          ],
          "name": "stdout"
        }
      ]
    },
    {
      "metadata": {
        "id": "vn_wE_nz0abg",
        "colab_type": "code",
        "colab": {}
      },
      "cell_type": "code",
      "source": [
        "# Can't understand why negative loss..."
      ],
      "execution_count": 0,
      "outputs": []
    },
    {
      "metadata": {
        "id": "A-5fuZD4W6n3",
        "colab_type": "text"
      },
      "cell_type": "markdown",
      "source": [
        "## Testing"
      ]
    },
    {
      "metadata": {
        "id": "lyIFd2cr2O3z",
        "colab_type": "code",
        "colab": {}
      },
      "cell_type": "code",
      "source": [
        "imD = Image.open('DRIVE/test/images/01_test.tif')\n",
        "imD = np.array(imD) \n",
        "imD = imD/255.0\n",
        "    \n",
        "imL = Image.open('DRIVE/test/1st_manual/01_manual1.gif')\n",
        "imL = np.array(imL)\n",
        "imL = imL/255.0"
      ],
      "execution_count": 0,
      "outputs": []
    },
    {
      "metadata": {
        "id": "NsT0Gn1x1eI2",
        "colab_type": "code",
        "colab": {}
      },
      "cell_type": "code",
      "source": [
        "# Break the image into 10 x 10 patches and push the patches into the network for vessel detection\n",
        "\n",
        "TestArr = np.zeros(patchH*patchW*3)\n",
        "imout = np.zeros((imD.shape[0],imD.shape[1]))\n",
        "\n",
        "for i in range(imD.shape[0]//patchH):\n",
        "    for j in range(imD.shape[1]//patchW):\n",
        "        for l1 in range(3):\n",
        "            for l2 in range(patchH):\n",
        "                for l3 in range(patchW):\n",
        "                    TestArr[l1*patchH*patchW + l2*patchW + l3] = imD[i*patchH +l2][j*patchW+l3][l1]\n",
        "        TestTensor = torch.from_numpy(TestArr)\n",
        "        out = net(Variable(TestTensor.double().cuda()))\n",
        "        outArr = out.data.cpu().numpy()\n",
        "        for l2 in range(patchH):\n",
        "            for l3 in range(patchW):\n",
        "                imout[i*patchH +l2][j*patchW+l3] = outArr[l2*patchW + l3]"
      ],
      "execution_count": 0,
      "outputs": []
    },
    {
      "metadata": {
        "id": "qPkcFGS4eME5",
        "colab_type": "code",
        "colab": {}
      },
      "cell_type": "code",
      "source": [
        "fig_size = plt.rcParams[\"figure.figsize\"]\n",
        "fig_size[0] = 20\n",
        "fig_size[1] = 20\n",
        "plt.rcParams[\"figure.figsize\"] = fig_size\n",
        "plt.figure()\n",
        "plt.subplot(1, 3, 1)\n",
        "npimg = imD\n",
        "npimg = np.abs(npimg)\n",
        "plt.title('Input Image')\n",
        "plt.imshow(npimg)\n",
        "\n",
        "plt.subplot(1, 3, 2)\n",
        "npimg = imout\n",
        "npimg = np.abs(npimg)\n",
        "plt.title('Classifier Output')\n",
        "plt.imshow(npimg, 'gray')\n",
        "\n",
        "plt.subplot(1, 3, 3)\n",
        "npimg = imL\n",
        "npimg = np.abs(npimg)\n",
        "plt.title('Manual Label')\n",
        "plt.imshow(npimg, 'gray')"
      ],
      "execution_count": 0,
      "outputs": []
    }
  ]
}